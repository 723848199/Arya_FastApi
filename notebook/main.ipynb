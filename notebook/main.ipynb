{
 "cells": [
  {
   "cell_type": "markdown",
   "source": [
    "# 链接数据库\n",
    "\n",
    "链接数据库需要使用异步的方式,jupyter本身已经异步了,所以直接`await` 调用就好\n",
    "> 下方`await`红线提示,误报,无视即可"
   ],
   "metadata": {
    "collapsed": false
   },
   "id": "25733645d54e3990"
  },
  {
   "cell_type": "code",
   "execution_count": 1,
   "id": "initial_id",
   "metadata": {
    "collapsed": true,
    "ExecuteTime": {
     "end_time": "2023-08-12T10:46:06.190463Z",
     "start_time": "2023-08-12T10:46:05.635813Z"
    }
   },
   "outputs": [
    {
     "name": "stdout",
     "output_type": "stream",
     "text": [
      "数据库运行成功\n"
     ]
    }
   ],
   "source": [
    "import random\n",
    "\n",
    "from setting import setting\n",
    "from app.user.models import User,UserModel\n",
    "from tortoise import Tortoise\n",
    "\n",
    "await Tortoise.init(\n",
    "    config=setting.db_rom_config\n",
    ")\n",
    "print('数据库运行成功')"
   ]
  },
  {
   "cell_type": "markdown",
   "source": [
    "## 增"
   ],
   "metadata": {
    "collapsed": false
   },
   "id": "9406d5d73a7d4bbf"
  },
  {
   "cell_type": "code",
   "execution_count": 58,
   "outputs": [
    {
     "name": "stdout",
     "output_type": "stream",
     "text": [
      "111 $2b$12$vGK6u8aoyyyxT3Pcb1OIG.mc6TxDlIrWho.vBB5leMazMx3c6Lxk6\n"
     ]
    },
    {
     "data": {
      "text/plain": "1"
     },
     "execution_count": 58,
     "metadata": {},
     "output_type": "execute_result"
    }
   ],
   "source": [
    "from pydantic import BaseModel\n",
    "\n",
    "# 创建一条数据,(像数据库表中插入一条数据)\n",
    "obj = await User.create(account='111', password='123456')\n",
    "print(obj.account, obj.password)\n",
    "\n",
    "# 删除数据 \n",
    "# pk代表表的主键,无论表中主键的字段名是什么,统一用pk表示\n",
    "await User.filter(pk=obj.pk).delete()"
   ],
   "metadata": {
    "collapsed": false,
    "ExecuteTime": {
     "end_time": "2023-08-12T10:42:39.843775Z",
     "start_time": "2023-08-12T10:42:39.516619Z"
    }
   },
   "id": "55d558b8a775e530"
  },
  {
   "cell_type": "code",
   "execution_count": 59,
   "outputs": [
    {
     "name": "stdout",
     "output_type": "stream",
     "text": [
      "12312 $2b$12$XuDxrQ9iyT1Eu39KB9c5IepsP2SISRC23IulauYIoNZuY3FM25KWC\n"
     ]
    },
    {
     "data": {
      "text/plain": "1"
     },
     "execution_count": 59,
     "metadata": {},
     "output_type": "execute_result"
    }
   ],
   "source": [
    "# 通过创建响应模型,可定义数据格式\n",
    "class UserModelDemo(BaseModel):\n",
    "    account: str\n",
    "    password: str\n",
    "    username: str = None\n",
    "\n",
    "\n",
    "user = UserModelDemo(account='12312', password='123456')\n",
    "## user.model_dump() 将响应模型转换为字典格式,通过**解包传递给create参数\n",
    "obj = await User.create(**user.model_dump())\n",
    "\n",
    "print(obj.account, obj.password)\n",
    "await User.filter(pk=obj.pk).delete()"
   ],
   "metadata": {
    "collapsed": false,
    "ExecuteTime": {
     "end_time": "2023-08-12T10:42:40.113280Z",
     "start_time": "2023-08-12T10:42:39.836170Z"
    }
   },
   "id": "2d1a8d9cf6c041af"
  },
  {
   "cell_type": "markdown",
   "source": [
    "## 查"
   ],
   "metadata": {
    "collapsed": false
   },
   "id": "5b03e2af4a172860"
  },
  {
   "cell_type": "code",
   "execution_count": 60,
   "outputs": [
    {
     "name": "stdout",
     "output_type": "stream",
     "text": [
      "[<User: 1>, <User: 3>, <User: 4>, <User: 6>, <User: 30>]\n"
     ]
    }
   ],
   "source": [
    "# all() 查找表中所以数据 \n",
    "obj = await User.all()\n",
    "print(obj)"
   ],
   "metadata": {
    "collapsed": false,
    "ExecuteTime": {
     "end_time": "2023-08-12T10:42:40.119022Z",
     "start_time": "2023-08-12T10:42:40.113071Z"
    }
   },
   "id": "cfb28d7a0eb0fe1"
  },
  {
   "cell_type": "code",
   "execution_count": 61,
   "outputs": [
    {
     "name": "stdout",
     "output_type": "stream",
     "text": [
      "[{'account': 'str112323ng'}, {'account': 'string'}, {'account': 'string1'}, {'account': 'arya'}, {'account': '12345'}]\n"
     ]
    }
   ],
   "source": [
    "# .values() 查找所有表中指定数据,需要跟在查询后使用\n",
    "print(await User.all().values('account'))"
   ],
   "metadata": {
    "collapsed": false,
    "ExecuteTime": {
     "end_time": "2023-08-12T10:42:40.122463Z",
     "start_time": "2023-08-12T10:42:40.118191Z"
    }
   },
   "id": "77fe3cc0136e3121"
  },
  {
   "cell_type": "code",
   "execution_count": 62,
   "outputs": [
    {
     "name": "stdout",
     "output_type": "stream",
     "text": [
      "[<User: 30>, <User: 6>, <User: 4>, <User: 3>, <User: 1>]\n",
      "[<User: 1>, <User: 3>, <User: 4>, <User: 6>, <User: 30>]\n"
     ]
    }
   ],
   "source": [
    "# order_by() 对查询到的结果进行排序  -号表示倒叙\n",
    "print(await User.all().order_by('-id'))\n",
    "print(await User.all().order_by('id'))"
   ],
   "metadata": {
    "collapsed": false,
    "ExecuteTime": {
     "end_time": "2023-08-12T10:42:40.125748Z",
     "start_time": "2023-08-12T10:42:40.121648Z"
    }
   },
   "id": "5c85c59fb84083ef"
  },
  {
   "cell_type": "code",
   "execution_count": 63,
   "outputs": [
    {
     "name": "stdout",
     "output_type": "stream",
     "text": [
      "[<User: 1>, <User: 3>, <User: 4>, <User: 6>, <User: 30>]\n",
      "[<User: 4>]\n"
     ]
    }
   ],
   "source": [
    "# 分页\n",
    "# offset() 偏移量  (页码)\n",
    "# limit()  长度    (每页显示数量)\n",
    "print(await User.all())\n",
    "print(await User.all().offset(2).limit(1))"
   ],
   "metadata": {
    "collapsed": false,
    "ExecuteTime": {
     "end_time": "2023-08-12T10:42:40.131025Z",
     "start_time": "2023-08-12T10:42:40.126142Z"
    }
   },
   "id": "2992a8349d1da1a4"
  },
  {
   "cell_type": "code",
   "execution_count": 64,
   "outputs": [
    {
     "name": "stdout",
     "output_type": "stream",
     "text": [
      "[(1, 'str112323ng'), (3, 'string'), (4, 'string1'), (6, 'arya'), (30, '12345')]\n",
      "[<User: 1>, <User: 3>, <User: 4>, <User: 6>, <User: 30>]\n"
     ]
    }
   ],
   "source": [
    "# 分组\n",
    "print(await User.all().group_by().values_list('id', 'account'))\n",
    "print(await User.all().group_by('pk'))"
   ],
   "metadata": {
    "collapsed": false,
    "ExecuteTime": {
     "end_time": "2023-08-12T10:42:40.191520Z",
     "start_time": "2023-08-12T10:42:40.130310Z"
    }
   },
   "id": "8973f519996d3077"
  },
  {
   "cell_type": "code",
   "execution_count": 65,
   "outputs": [
    {
     "name": "stdout",
     "output_type": "stream",
     "text": [
      "5\n",
      "3\n"
     ]
    }
   ],
   "source": [
    "# count()  统计获得到的数据数量\n",
    "print(await User.all().count())\n",
    "print(await User.all().offset(2).limit(10).count())"
   ],
   "metadata": {
    "collapsed": false,
    "ExecuteTime": {
     "end_time": "2023-08-12T10:42:40.193357Z",
     "start_time": "2023-08-12T10:42:40.134372Z"
    }
   },
   "id": "928b5be7dc6e0d1b"
  },
  {
   "cell_type": "markdown",
   "source": [
    "### get"
   ],
   "metadata": {
    "collapsed": false
   },
   "id": "143862eaa3421f25"
  },
  {
   "cell_type": "code",
   "execution_count": 66,
   "outputs": [
    {
     "name": "stdout",
     "output_type": "stream",
     "text": [
      "<User>\n",
      "<User>\n"
     ]
    }
   ],
   "source": [
    "# get 根据条件查询符合的对象,条件需唯一,如果查不到,报错提示\n",
    "print(await User.get(pk=3))\n",
    "print(await User.get(pk=30))"
   ],
   "metadata": {
    "collapsed": false,
    "ExecuteTime": {
     "end_time": "2023-08-12T10:42:40.202800Z",
     "start_time": "2023-08-12T10:42:40.142776Z"
    }
   },
   "id": "e1b4eee456a14a5"
  },
  {
   "cell_type": "code",
   "execution_count": 67,
   "outputs": [
    {
     "name": "stdout",
     "output_type": "stream",
     "text": [
      "<User>\n",
      "<User>\n"
     ]
    }
   ],
   "source": [
    "# get_or_none() 根据条件查询符合的对象,条件需唯一,如果查不到,返回None\n",
    "print(await User.get_or_none(id=3))\n",
    "print(await User.get_or_none(id=30))"
   ],
   "metadata": {
    "collapsed": false,
    "ExecuteTime": {
     "end_time": "2023-08-12T10:42:40.203211Z",
     "start_time": "2023-08-12T10:42:40.147751Z"
    }
   },
   "id": "6df3164f6385e1ba"
  },
  {
   "cell_type": "code",
   "execution_count": 68,
   "outputs": [
    {
     "name": "stdout",
     "output_type": "stream",
     "text": [
      "(<User: 3>, False)\n",
      "(<User: 30>, False)\n"
     ]
    }
   ],
   "source": [
    "# get_or_create() 根据条件查询符合的对象,条件需唯一,如果查不到根据defaults的内容创建对象\n",
    "print(await User.get_or_create(id=3))\n",
    "print(await User.get_or_create(id=30,defaults={'account':'12345','password':'12345'}))"
   ],
   "metadata": {
    "collapsed": false,
    "ExecuteTime": {
     "end_time": "2023-08-12T10:42:40.203715Z",
     "start_time": "2023-08-12T10:42:40.151181Z"
    }
   },
   "id": "1c82acc9ff19f6b9"
  },
  {
   "cell_type": "code",
   "execution_count": 18,
   "outputs": [
    {
     "name": "stdout",
     "output_type": "stream",
     "text": [
      "[{'id': 101, 'integral': Decimal('146.00000')}, {'id': 102, 'integral': Decimal('177.00000')}, {'id': 103, 'integral': Decimal('114.00000')}, {'id': 104, 'integral': Decimal('177.00000')}, {'id': 105, 'integral': Decimal('197.00000')}, {'id': 106, 'integral': Decimal('128.00000')}, {'id': 107, 'integral': Decimal('168.00000')}, {'id': 108, 'integral': Decimal('115.00000')}, {'id': 109, 'integral': Decimal('181.00000')}, {'id': 110, 'integral': Decimal('124.00000')}, {'id': 111, 'integral': Decimal('190.00000')}, {'id': 112, 'integral': Decimal('155.00000')}, {'id': 113, 'integral': Decimal('108.00000')}, {'id': 114, 'integral': Decimal('116.00000')}, {'id': 115, 'integral': Decimal('101.00000')}, {'id': 116, 'integral': Decimal('190.00000')}, {'id': 117, 'integral': Decimal('124.00000')}, {'id': 118, 'integral': Decimal('169.00000')}, {'id': 119, 'integral': Decimal('199.00000')}, {'id': 120, 'integral': Decimal('106.00000')}, {'id': 121, 'integral': Decimal('114.00000')}, {'id': 122, 'integral': Decimal('133.00000')}, {'id': 123, 'integral': Decimal('133.00000')}, {'id': 124, 'integral': Decimal('190.00000')}, {'id': 125, 'integral': Decimal('198.00000')}, {'id': 126, 'integral': Decimal('194.00000')}, {'id': 127, 'integral': Decimal('145.00000')}, {'id': 128, 'integral': Decimal('135.00000')}, {'id': 129, 'integral': Decimal('170.00000')}, {'id': 130, 'integral': Decimal('110.00000')}, {'id': 131, 'integral': Decimal('193.00000')}, {'id': 132, 'integral': Decimal('200.00000')}, {'id': 133, 'integral': Decimal('117.00000')}, {'id': 134, 'integral': Decimal('139.00000')}, {'id': 135, 'integral': Decimal('161.00000')}, {'id': 136, 'integral': Decimal('187.00000')}, {'id': 137, 'integral': Decimal('155.00000')}, {'id': 138, 'integral': Decimal('103.00000')}, {'id': 139, 'integral': Decimal('130.00000')}, {'id': 140, 'integral': Decimal('156.00000')}, {'id': 141, 'integral': Decimal('138.00000')}, {'id': 142, 'integral': Decimal('172.00000')}, {'id': 143, 'integral': Decimal('127.00000')}, {'id': 144, 'integral': Decimal('193.00000')}, {'id': 145, 'integral': Decimal('195.00000')}, {'id': 146, 'integral': Decimal('123.00000')}, {'id': 147, 'integral': Decimal('106.00000')}, {'id': 148, 'integral': Decimal('160.00000')}, {'id': 149, 'integral': Decimal('136.00000')}, {'id': 150, 'integral': Decimal('116.00000')}]\n"
     ]
    }
   ],
   "source": [
    "from tortoise.queryset import F\n",
    "from tortoise.functions import Avg\n",
    "\n",
    "print(await UserModel.annotate(integral_price=F('integral') * 0.5).values('id','integral'))\n",
    "# .group_by('gender').values('integral'))"
   ],
   "metadata": {
    "collapsed": false,
    "ExecuteTime": {
     "end_time": "2023-08-12T11:00:04.856987Z",
     "start_time": "2023-08-12T11:00:04.781696Z"
    }
   },
   "id": "651358ee5b00e9fb"
  },
  {
   "cell_type": "code",
   "execution_count": 20,
   "outputs": [
    {
     "name": "stdout",
     "output_type": "stream",
     "text": [
      "{'id': 101, 'is_delete': False, 'created': datetime.datetime(2023, 8, 12, 18, 47, 52, 491896, tzinfo=<DstTzInfo 'Asia/Shanghai' CST+8:00:00 STD>), 'modified': datetime.datetime(2023, 8, 12, 18, 47, 52, 491920, tzinfo=<DstTzInfo 'Asia/Shanghai' CST+8:00:00 STD>), 'account': '0', 'password': '0', 'gender': <Gender.man: 1>, 'integral': Decimal('146.00000')}\n"
     ]
    }
   ],
   "source": [
    "# first()\n",
    "# 返回查询到的列表的第一条数据\n",
    "print(await UserModel.all().first().values())"
   ],
   "metadata": {
    "collapsed": false,
    "ExecuteTime": {
     "end_time": "2023-08-12T11:14:42.474960Z",
     "start_time": "2023-08-12T11:14:42.447865Z"
    }
   },
   "id": "c8781d464081964e"
  },
  {
   "cell_type": "code",
   "execution_count": 23,
   "outputs": [
    {
     "data": {
      "text/plain": "[<UserModel: 101>]"
     },
     "execution_count": 23,
     "metadata": {},
     "output_type": "execute_result"
    }
   ],
   "source": [
    "# filter()\n",
    "# 查询符合条件的数据\n",
    "await UserModel.filter(id = 101)"
   ],
   "metadata": {
    "collapsed": false,
    "ExecuteTime": {
     "end_time": "2023-08-12T11:16:51.423908Z",
     "start_time": "2023-08-12T11:16:51.364588Z"
    }
   },
   "id": "da111d46a670c05e"
  },
  {
   "cell_type": "code",
   "execution_count": 28,
   "outputs": [
    {
     "name": "stdout",
     "output_type": "stream",
     "text": [
      "50\n",
      "25\n"
     ]
    }
   ],
   "source": [
    "# exclude()\n",
    "# 查询排除符合条件的数据\n",
    "print(await UserModel.all().count())\n",
    "print(await UserModel.exclude(gender=1).count())"
   ],
   "metadata": {
    "collapsed": false,
    "ExecuteTime": {
     "end_time": "2023-08-12T11:19:25.929819Z",
     "start_time": "2023-08-12T11:19:25.894743Z"
    }
   },
   "id": "105d024b9e9f65fb"
  },
  {
   "cell_type": "markdown",
   "source": [
    "### filter 查询参数\n",
    "* not"
   ],
   "metadata": {
    "collapsed": false
   },
   "id": "ee5e890e74c9fa47"
  },
  {
   "cell_type": "code",
   "execution_count": 32,
   "outputs": [
    {
     "name": "stdout",
     "output_type": "stream",
     "text": [
      "[<UserModel: 120>, <UserModel: 121>]\n",
      "[]\n",
      "[<UserModel: 120>]\n"
     ]
    }
   ],
   "source": [
    "from tortoise.expressions import Q\n",
    "\n",
    "# Q 或者查询\n",
    "print(await UserModel.filter(Q(id=120)|Q(id=121)))\n",
    "print(await UserModel.filter(Q(id=120),Q(id=121)))\n",
    "print(await UserModel.filter(Q(id=120),~Q(id=121)))"
   ],
   "metadata": {
    "collapsed": false,
    "ExecuteTime": {
     "end_time": "2023-08-12T11:35:23.501852Z",
     "start_time": "2023-08-12T11:35:23.451093Z"
    }
   },
   "id": "907ef083f97a7ecb"
  }
 ],
 "metadata": {
  "kernelspec": {
   "display_name": "Python 3",
   "language": "python",
   "name": "python3"
  },
  "language_info": {
   "codemirror_mode": {
    "name": "ipython",
    "version": 2
   },
   "file_extension": ".py",
   "mimetype": "text/x-python",
   "name": "python",
   "nbconvert_exporter": "python",
   "pygments_lexer": "ipython2",
   "version": "2.7.6"
  }
 },
 "nbformat": 4,
 "nbformat_minor": 5
}
