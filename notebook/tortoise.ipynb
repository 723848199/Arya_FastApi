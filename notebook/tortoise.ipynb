{
 "cells": [
  {
   "cell_type": "code",
   "execution_count": 26,
   "outputs": [
    {
     "name": "stdout",
     "output_type": "stream",
     "text": [
      "12\n"
     ]
    }
   ],
   "source": [
    "import asyncio\n",
    "from app.user.models import User\n",
    "\n",
    "async def main_demo():\n",
    "    # obj = await User.all()\n",
    "    # print(obj.id)\n",
    "    print('12')\n",
    "\n",
    "if __name__ == '__main__':\n",
    "    asyncio.run(main_demo())"
   ],
   "metadata": {
    "collapsed": false,
    "ExecuteTime": {
     "end_time": "2023-08-12T07:54:53.871878Z",
     "start_time": "2023-08-12T07:54:53.853960Z"
    }
   },
   "id": "bec3288d8342b346"
  },
  {
   "cell_type": "markdown",
   "source": [],
   "metadata": {
    "collapsed": false
   },
   "id": "209a21dade7a1ff4"
  }
 ],
 "metadata": {
  "kernelspec": {
   "display_name": "Python 3",
   "language": "python",
   "name": "python3"
  },
  "language_info": {
   "codemirror_mode": {
    "name": "ipython",
    "version": 2
   },
   "file_extension": ".py",
   "mimetype": "text/x-python",
   "name": "python",
   "nbconvert_exporter": "python",
   "pygments_lexer": "ipython2",
   "version": "2.7.6"
  }
 },
 "nbformat": 4,
 "nbformat_minor": 5
}
